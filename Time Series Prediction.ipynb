{
 "cells": [
  {
   "cell_type": "code",
   "execution_count": 23,
   "metadata": {},
   "outputs": [],
   "source": [
    "import pandas as pd\n",
    "import numpy as np\n",
    "from sklearn.cluster import KMeans\n",
    "import matplotlib.pyplot as plt\n",
    "# from plotly.offline import download_plotlyjs, init_notebook_mode, plot, iplot\n",
    "# import plotly.plotly as py\n",
    "from matplotlib import pyplot\n",
    "# import plotly.graph_objs as go\n",
    "\n",
    "import math\n",
    "import statsmodels.api as sm\n",
    "import statsmodels.tsa.api as smt\n",
    "from sklearn.metrics import mean_squared_error\n",
    "from matplotlib import pyplot\n",
    "import matplotlib.pyplot as plt\n",
    "# import plotly.plotly as py\n",
    "# import plotly.tools as tls"
   ]
  },
  {
   "cell_type": "code",
   "execution_count": 29,
   "metadata": {},
   "outputs": [
    {
     "name": "stdout",
     "output_type": "stream",
     "text": [
      "Timestamp                          0\n",
      "Wellman_Electricity_Demand_kBtu    0\n",
      "dtype: int64\n",
      "<class 'pandas.core.frame.DataFrame'>\n",
      "Int64Index: 30063 entries, 0 to 30176\n",
      "Data columns (total 2 columns):\n",
      "Timestamp                          30063 non-null object\n",
      "Wellman_Electricity_Demand_kBtu    30063 non-null float64\n",
      "dtypes: float64(1), object(1)\n",
      "memory usage: 704.6+ KB\n"
     ]
    },
    {
     "data": {
      "text/plain": [
       "<matplotlib.axes._subplots.AxesSubplot at 0x1c24b28908>"
      ]
     },
     "execution_count": 29,
     "metadata": {},
     "output_type": "execute_result"
    },
    {
     "data": {
      "image/png": "[encoded data removed]",
      "text/plain": [
       "<matplotlib.figure.Figure at 0x1c24b06978>"
      ]
     },
     "metadata": {},
     "output_type": "display_data"
    }
   ],
   "source": [
    "#read the data in to a dataframe (conver this later to use pipulling)\n",
    "time_series_df = pd.read_csv(\"Well_Elec.csv\")\n",
    "time_series_df = time_series_df.dropna()\n",
    "print(time_series_df.isna().sum())\n",
    "time_series_df.info()\n",
    "time_series_df.head()\n",
    "time_series_df.plot(x='Timestamp', y='Wellman_Electricity_Demand_kBtu')"
   ]
  },
  {
   "cell_type": "code",
   "execution_count": 30,
   "metadata": {},
   "outputs": [
    {
     "data": {
      "text/html": [
       "<div>\n",
       "<style scoped>\n",
       "    .dataframe tbody tr th:only-of-type {\n",
       "        vertical-align: middle;\n",
       "    }\n",
       "\n",
       "    .dataframe tbody tr th {\n",
       "        vertical-align: top;\n",
       "    }\n",
       "\n",
       "    .dataframe thead th {\n",
       "        text-align: right;\n",
       "    }\n",
       "</style>\n",
       "<table border=\"1\" class=\"dataframe\">\n",
       "  <thead>\n",
       "    <tr style=\"text-align: right;\">\n",
       "      <th></th>\n",
       "      <th>Timestamp</th>\n",
       "      <th>Wellman_Electricity_Demand_kBtu</th>\n",
       "    </tr>\n",
       "  </thead>\n",
       "  <tbody>\n",
       "    <tr>\n",
       "      <th>0</th>\n",
       "      <td>2016-01-01 00:00:00</td>\n",
       "      <td>20.978497</td>\n",
       "    </tr>\n",
       "    <tr>\n",
       "      <th>1</th>\n",
       "      <td>2016-01-01 01:00:00</td>\n",
       "      <td>20.923991</td>\n",
       "    </tr>\n",
       "    <tr>\n",
       "      <th>2</th>\n",
       "      <td>2016-01-01 02:00:00</td>\n",
       "      <td>20.954167</td>\n",
       "    </tr>\n",
       "    <tr>\n",
       "      <th>3</th>\n",
       "      <td>2016-01-01 03:00:00</td>\n",
       "      <td>20.469135</td>\n",
       "    </tr>\n",
       "    <tr>\n",
       "      <th>4</th>\n",
       "      <td>2016-01-01 04:00:00</td>\n",
       "      <td>22.993632</td>\n",
       "    </tr>\n",
       "  </tbody>\n",
       "</table>\n",
       "</div>"
      ],
      "text/plain": [
       "            Timestamp  Wellman_Electricity_Demand_kBtu\n",
       "0 2016-01-01 00:00:00                        20.978497\n",
       "1 2016-01-01 01:00:00                        20.923991\n",
       "2 2016-01-01 02:00:00                        20.954167\n",
       "3 2016-01-01 03:00:00                        20.469135\n",
       "4 2016-01-01 04:00:00                        22.993632"
      ]
     },
     "execution_count": 30,
     "metadata": {},
     "output_type": "execute_result"
    }
   ],
   "source": [
    "time_series_df.Timestamp = pd.to_datetime(time_series_df.Timestamp, format='%Y-%m-%d %H:%M:%S')\n",
    "time_series_df = time_series_df.sort_values(by=\"Timestamp\")\n",
    "time_series_df = time_series_df.reset_index(drop=True)\n",
    "time_series_df.head()"
   ]
  },
  {
   "cell_type": "code",
   "execution_count": 31,
   "metadata": {},
   "outputs": [
    {
     "name": "stdout",
     "output_type": "stream",
     "text": [
      "30063\n"
     ]
    }
   ],
   "source": [
    "actual_vals = time_series_df.Wellman_Electricity_Demand_kBtu.values\n",
    "actual_log = np.log10(actual_vals)\n",
    "print(len(actual_vals))"
   ]
  },
  {
   "cell_type": "code",
   "execution_count": 32,
   "metadata": {},
   "outputs": [],
   "source": [
    "# train, test = actual_vals[0:2400], actual_vals[2400:]\n",
    "train, test = actual_vals[0:500], actual_vals[500:750]\n",
    "train_log, test_log = np.log10(train), np.log10(test)\n",
    "my_order = (1, 1, 1)\n",
    "my_seasonal_order = (0, 1, 1, 7)"
   ]
  },
  {
   "cell_type": "code",
   "execution_count": 33,
   "metadata": {},
   "outputs": [
    {
     "name": "stdout",
     "output_type": "stream",
     "text": [
      "predicted=1.656915, expected=1.593368\n",
      "predicted=1.546553, expected=1.537982\n",
      "predicted=1.504965, expected=1.487237\n",
      "predicted=1.458550, expected=1.493721\n",
      "predicted=1.491384, expected=1.464366\n",
      "predicted=1.448490, expected=1.451278\n"
     ]
    },
    {
     "name": "stderr",
     "output_type": "stream",
     "text": [
      "/anaconda3/lib/python3.6/site-packages/statsmodels/base/model.py:496: ConvergenceWarning: Maximum Likelihood optimization failed to converge. Check mle_retvals\n",
      "  \"Check mle_retvals\", ConvergenceWarning)\n"
     ]
    },
    {
     "name": "stdout",
     "output_type": "stream",
     "text": [
      "predicted=1.443117, expected=1.471882\n",
      "predicted=1.482343, expected=1.466912\n",
      "predicted=1.462558, expected=1.465841\n",
      "predicted=1.467082, expected=1.443842\n",
      "predicted=1.435135, expected=1.433040\n",
      "predicted=1.422110, expected=1.482271\n",
      "predicted=1.510083, expected=1.551303\n",
      "predicted=1.593931, expected=1.658366\n",
      "predicted=1.722734, expected=1.711110\n",
      "predicted=1.744152, expected=1.720647\n",
      "predicted=1.730497, expected=1.711614\n",
      "predicted=1.710719, expected=1.728543\n",
      "predicted=1.734812, expected=1.689702\n"
     ]
    },
    {
     "name": "stderr",
     "output_type": "stream",
     "text": [
      "/anaconda3/lib/python3.6/site-packages/statsmodels/base/model.py:496: ConvergenceWarning: Maximum Likelihood optimization failed to converge. Check mle_retvals\n",
      "  \"Check mle_retvals\", ConvergenceWarning)\n"
     ]
    },
    {
     "name": "stdout",
     "output_type": "stream",
     "text": [
      "predicted=1.669441, expected=1.644790\n",
      "predicted=1.619371, expected=1.614072\n",
      "predicted=1.593611, expected=1.523345\n",
      "predicted=1.466710, expected=1.513465\n",
      "predicted=1.504943, expected=1.496628\n"
     ]
    },
    {
     "name": "stderr",
     "output_type": "stream",
     "text": [
      "/anaconda3/lib/python3.6/site-packages/statsmodels/base/model.py:496: ConvergenceWarning: Maximum Likelihood optimization failed to converge. Check mle_retvals\n",
      "  \"Check mle_retvals\", ConvergenceWarning)\n"
     ]
    },
    {
     "name": "stdout",
     "output_type": "stream",
     "text": [
      "predicted=1.490188, expected=1.501914\n",
      "predicted=1.500389, expected=1.487829\n",
      "predicted=1.480934, expected=1.463869\n",
      "predicted=1.451498, expected=1.388499\n",
      "predicted=1.342529, expected=1.367964\n",
      "predicted=1.350394, expected=1.365867\n",
      "predicted=1.364760, expected=1.370297\n",
      "predicted=1.376755, expected=1.380580\n",
      "predicted=1.382933, expected=1.380146\n",
      "predicted=1.381102, expected=1.365738\n",
      "predicted=1.358654, expected=1.362762\n",
      "predicted=1.359032, expected=1.371502\n",
      "predicted=1.374320, expected=1.401675\n",
      "predicted=1.420652, expected=1.439444\n"
     ]
    },
    {
     "name": "stderr",
     "output_type": "stream",
     "text": [
      "/anaconda3/lib/python3.6/site-packages/statsmodels/base/model.py:496: ConvergenceWarning: Maximum Likelihood optimization failed to converge. Check mle_retvals\n",
      "  \"Check mle_retvals\", ConvergenceWarning)\n"
     ]
    },
    {
     "name": "stdout",
     "output_type": "stream",
     "text": [
      "predicted=1.466579, expected=1.457823\n",
      "predicted=1.466398, expected=1.509628\n",
      "predicted=1.540685, expected=1.521428\n",
      "predicted=1.531866, expected=1.506452\n"
     ]
    },
    {
     "name": "stderr",
     "output_type": "stream",
     "text": [
      "/anaconda3/lib/python3.6/site-packages/statsmodels/base/model.py:496: ConvergenceWarning: Maximum Likelihood optimization failed to converge. Check mle_retvals\n",
      "  \"Check mle_retvals\", ConvergenceWarning)\n"
     ]
    },
    {
     "name": "stdout",
     "output_type": "stream",
     "text": [
      "predicted=1.497459, expected=1.494071\n",
      "predicted=1.484788, expected=1.479634\n",
      "predicted=1.472453, expected=1.475935\n",
      "predicted=1.477195, expected=1.472252\n",
      "predicted=1.466771, expected=1.446260\n",
      "predicted=1.431531, expected=1.432830\n",
      "predicted=1.424796, expected=1.386142\n",
      "predicted=1.357576, expected=1.389498\n",
      "predicted=1.387434, expected=1.381312\n",
      "predicted=1.378338, expected=1.383867\n",
      "predicted=1.388933, expected=1.382379\n",
      "predicted=1.378217, expected=1.383582\n"
     ]
    },
    {
     "name": "stderr",
     "output_type": "stream",
     "text": [
      "/anaconda3/lib/python3.6/site-packages/statsmodels/base/model.py:496: ConvergenceWarning: Maximum Likelihood optimization failed to converge. Check mle_retvals\n",
      "  \"Check mle_retvals\", ConvergenceWarning)\n"
     ]
    },
    {
     "name": "stdout",
     "output_type": "stream",
     "text": [
      "predicted=1.384462, expected=1.380833\n"
     ]
    },
    {
     "name": "stderr",
     "output_type": "stream",
     "text": [
      "/anaconda3/lib/python3.6/site-packages/statsmodels/base/model.py:496: ConvergenceWarning: Maximum Likelihood optimization failed to converge. Check mle_retvals\n",
      "  \"Check mle_retvals\", ConvergenceWarning)\n"
     ]
    },
    {
     "name": "stdout",
     "output_type": "stream",
     "text": [
      "predicted=1.379656, expected=1.379668\n"
     ]
    },
    {
     "name": "stderr",
     "output_type": "stream",
     "text": [
      "/anaconda3/lib/python3.6/site-packages/statsmodels/base/model.py:496: ConvergenceWarning: Maximum Likelihood optimization failed to converge. Check mle_retvals\n",
      "  \"Check mle_retvals\", ConvergenceWarning)\n"
     ]
    },
    {
     "name": "stdout",
     "output_type": "stream",
     "text": [
      "predicted=1.378025, expected=1.381396\n",
      "predicted=1.380549, expected=1.384188\n"
     ]
    },
    {
     "name": "stderr",
     "output_type": "stream",
     "text": [
      "/anaconda3/lib/python3.6/site-packages/statsmodels/base/model.py:496: ConvergenceWarning: Maximum Likelihood optimization failed to converge. Check mle_retvals\n",
      "  \"Check mle_retvals\", ConvergenceWarning)\n"
     ]
    },
    {
     "name": "stdout",
     "output_type": "stream",
     "text": [
      "predicted=1.387609, expected=1.388381\n",
      "predicted=1.394827, expected=1.395389\n",
      "predicted=1.396225, expected=1.393617\n",
      "predicted=1.393188, expected=1.435634\n",
      "predicted=1.459684, expected=1.482013\n",
      "predicted=1.509516, expected=1.501577\n",
      "predicted=1.513312, expected=1.532523\n",
      "predicted=1.552997, expected=1.550412\n",
      "predicted=1.566081, expected=1.547624\n"
     ]
    },
    {
     "name": "stderr",
     "output_type": "stream",
     "text": [
      "/anaconda3/lib/python3.6/site-packages/statsmodels/base/model.py:496: ConvergenceWarning: Maximum Likelihood optimization failed to converge. Check mle_retvals\n",
      "  \"Check mle_retvals\", ConvergenceWarning)\n"
     ]
    },
    {
     "name": "stdout",
     "output_type": "stream",
     "text": [
      "predicted=1.543653, expected=1.545575\n"
     ]
    },
    {
     "name": "stderr",
     "output_type": "stream",
     "text": [
      "/anaconda3/lib/python3.6/site-packages/statsmodels/base/model.py:496: ConvergenceWarning: Maximum Likelihood optimization failed to converge. Check mle_retvals\n",
      "  \"Check mle_retvals\", ConvergenceWarning)\n"
     ]
    },
    {
     "name": "stdout",
     "output_type": "stream",
     "text": [
      "predicted=1.545114, expected=1.524857\n",
      "predicted=1.513610, expected=1.569992\n",
      "predicted=1.593533, expected=1.591133\n",
      "predicted=1.603691, expected=1.552380\n",
      "predicted=1.533421, expected=1.500781\n",
      "predicted=1.473569, expected=1.492326\n"
     ]
    },
    {
     "name": "stderr",
     "output_type": "stream",
     "text": [
      "/anaconda3/lib/python3.6/site-packages/statsmodels/base/model.py:496: ConvergenceWarning: Maximum Likelihood optimization failed to converge. Check mle_retvals\n",
      "  \"Check mle_retvals\", ConvergenceWarning)\n"
     ]
    },
    {
     "name": "stdout",
     "output_type": "stream",
     "text": [
      "predicted=1.481764, expected=1.464844\n",
      "predicted=1.449226, expected=1.443376\n",
      "predicted=1.431226, expected=1.437741\n",
      "predicted=1.432525, expected=1.434390\n",
      "predicted=1.430053, expected=1.435079\n",
      "predicted=1.436632, expected=1.435875\n",
      "predicted=1.440278, expected=1.436670\n",
      "predicted=1.433600, expected=1.494150\n",
      "predicted=1.527153, expected=1.551907\n"
     ]
    },
    {
     "name": "stderr",
     "output_type": "stream",
     "text": [
      "/anaconda3/lib/python3.6/site-packages/statsmodels/base/model.py:496: ConvergenceWarning: Maximum Likelihood optimization failed to converge. Check mle_retvals\n",
      "  \"Check mle_retvals\", ConvergenceWarning)\n"
     ]
    },
    {
     "name": "stdout",
     "output_type": "stream",
     "text": [
      "predicted=1.588628, expected=1.645551\n",
      "predicted=1.701025, expected=1.713879\n",
      "predicted=1.755535, expected=1.742736\n",
      "predicted=1.764038, expected=1.735016\n",
      "predicted=1.735936, expected=1.718110\n"
     ]
    },
    {
     "name": "stderr",
     "output_type": "stream",
     "text": [
      "/anaconda3/lib/python3.6/site-packages/statsmodels/base/model.py:496: ConvergenceWarning: Maximum Likelihood optimization failed to converge. Check mle_retvals\n",
      "  \"Check mle_retvals\", ConvergenceWarning)\n"
     ]
    },
    {
     "name": "stdout",
     "output_type": "stream",
     "text": [
      "predicted=1.705334, expected=1.736826\n",
      "predicted=1.747565, expected=1.723709\n",
      "predicted=1.719001, expected=1.702181\n",
      "predicted=1.688592, expected=1.691639\n",
      "predicted=1.682473, expected=1.663404\n",
      "predicted=1.647724, expected=1.678129\n"
     ]
    },
    {
     "name": "stderr",
     "output_type": "stream",
     "text": [
      "/anaconda3/lib/python3.6/site-packages/statsmodels/base/model.py:496: ConvergenceWarning: Maximum Likelihood optimization failed to converge. Check mle_retvals\n",
      "  \"Check mle_retvals\", ConvergenceWarning)\n"
     ]
    },
    {
     "name": "stdout",
     "output_type": "stream",
     "text": [
      "predicted=1.688961, expected=1.661528\n",
      "predicted=1.650154, expected=1.645681\n",
      "predicted=1.636422, expected=1.574401\n",
      "predicted=1.534819, expected=1.510892\n",
      "predicted=1.470516, expected=1.496921\n",
      "predicted=1.483550, expected=1.471762\n",
      "predicted=1.457904, expected=1.460510\n",
      "predicted=1.456265, expected=1.445298\n",
      "predicted=1.433491, expected=1.442378\n",
      "predicted=1.439741, expected=1.468961\n",
      "predicted=1.485548, expected=1.464237\n",
      "predicted=1.462269, expected=1.466524\n",
      "predicted=1.465165, expected=1.498005\n",
      "predicted=1.517448, expected=1.590080\n",
      "predicted=1.647529, expected=1.688509\n",
      "predicted=1.747106, expected=1.736946\n"
     ]
    },
    {
     "name": "stderr",
     "output_type": "stream",
     "text": [
      "/anaconda3/lib/python3.6/site-packages/statsmodels/base/model.py:496: ConvergenceWarning: Maximum Likelihood optimization failed to converge. Check mle_retvals\n",
      "  \"Check mle_retvals\", ConvergenceWarning)\n"
     ]
    },
    {
     "name": "stdout",
     "output_type": "stream",
     "text": [
      "predicted=1.769377, expected=1.718306\n",
      "predicted=1.710738, expected=1.718270\n",
      "predicted=1.717317, expected=1.728928\n",
      "predicted=1.732915, expected=1.716986\n",
      "predicted=1.712696, expected=1.735656\n",
      "predicted=1.749715, expected=1.714001\n",
      "predicted=1.699649, expected=1.698788\n"
     ]
    },
    {
     "name": "stderr",
     "output_type": "stream",
     "text": [
      "/anaconda3/lib/python3.6/site-packages/statsmodels/base/model.py:496: ConvergenceWarning: Maximum Likelihood optimization failed to converge. Check mle_retvals\n",
      "  \"Check mle_retvals\", ConvergenceWarning)\n"
     ]
    },
    {
     "name": "stdout",
     "output_type": "stream",
     "text": [
      "predicted=1.688755, expected=1.675403\n",
      "predicted=1.662689, expected=1.682627\n",
      "predicted=1.685628, expected=1.645152\n",
      "predicted=1.621469, expected=1.596910\n",
      "predicted=1.570171, expected=1.517883\n",
      "predicted=1.473403, expected=1.508396\n",
      "predicted=1.497198, expected=1.464846\n",
      "predicted=1.438505, expected=1.432452\n",
      "predicted=1.413584, expected=1.434387\n",
      "predicted=1.433325, expected=1.435326\n",
      "predicted=1.433218, expected=1.444237\n",
      "predicted=1.451297, expected=1.441504\n",
      "predicted=1.443980, expected=1.500387\n",
      "predicted=1.531175, expected=1.542862\n",
      "predicted=1.568989, expected=1.634601\n",
      "predicted=1.691456, expected=1.704525\n",
      "predicted=1.748466, expected=1.738868\n",
      "predicted=1.759506, expected=1.717583\n",
      "predicted=1.708655, expected=1.714166\n",
      "predicted=1.715746, expected=1.730562\n",
      "predicted=1.737036, expected=1.732159\n",
      "predicted=1.733742, expected=1.719286\n",
      "predicted=1.713961, expected=1.721696\n",
      "predicted=1.721793, expected=1.687667\n",
      "predicted=1.665117, expected=1.660173\n",
      "predicted=1.644775, expected=1.649115\n",
      "predicted=1.645984, expected=1.595687\n",
      "predicted=1.561427, expected=1.512832\n",
      "predicted=1.462289, expected=1.455325\n",
      "predicted=1.420400, expected=1.449299\n",
      "predicted=1.442153, expected=1.466399\n",
      "predicted=1.473006, expected=1.481944\n",
      "predicted=1.493543, expected=1.467116\n",
      "predicted=1.462960, expected=1.486649\n",
      "predicted=1.494101, expected=1.487673\n",
      "predicted=1.488752, expected=1.470375\n",
      "predicted=1.462785, expected=1.449543\n",
      "predicted=1.435882, expected=1.504259\n",
      "predicted=1.532315, expected=1.619067\n",
      "predicted=1.690081, expected=1.689489\n",
      "predicted=1.738690, expected=1.727177\n",
      "predicted=1.748054, expected=1.704648\n"
     ]
    },
    {
     "name": "stderr",
     "output_type": "stream",
     "text": [
      "/anaconda3/lib/python3.6/site-packages/statsmodels/base/model.py:496: ConvergenceWarning: Maximum Likelihood optimization failed to converge. Check mle_retvals\n",
      "  \"Check mle_retvals\", ConvergenceWarning)\n"
     ]
    },
    {
     "name": "stdout",
     "output_type": "stream",
     "text": [
      "predicted=1.692010, expected=1.749352\n",
      "predicted=1.777242, expected=1.747769\n",
      "predicted=1.748022, expected=1.715530\n",
      "predicted=1.694699, expected=1.707171\n",
      "predicted=1.703008, expected=1.694532\n"
     ]
    },
    {
     "name": "stderr",
     "output_type": "stream",
     "text": [
      "/anaconda3/lib/python3.6/site-packages/statsmodels/base/model.py:496: ConvergenceWarning: Maximum Likelihood optimization failed to converge. Check mle_retvals\n",
      "  \"Check mle_retvals\", ConvergenceWarning)\n"
     ]
    },
    {
     "name": "stdout",
     "output_type": "stream",
     "text": [
      "predicted=1.690870, expected=1.710167\n"
     ]
    },
    {
     "name": "stderr",
     "output_type": "stream",
     "text": [
      "/anaconda3/lib/python3.6/site-packages/statsmodels/base/model.py:496: ConvergenceWarning: Maximum Likelihood optimization failed to converge. Check mle_retvals\n",
      "  \"Check mle_retvals\", ConvergenceWarning)\n"
     ]
    },
    {
     "name": "stdout",
     "output_type": "stream",
     "text": [
      "predicted=1.714970, expected=1.690830\n",
      "predicted=1.680239, expected=1.653415\n",
      "predicted=1.632949, expected=1.603612\n",
      "predicted=1.572779, expected=1.558889\n",
      "predicted=1.529291, expected=1.490561\n",
      "predicted=1.450510, expected=1.480062\n",
      "predicted=1.476016, expected=1.463425\n",
      "predicted=1.449041, expected=1.448851\n",
      "predicted=1.439723, expected=1.429614\n"
     ]
    },
    {
     "name": "stderr",
     "output_type": "stream",
     "text": [
      "/anaconda3/lib/python3.6/site-packages/statsmodels/base/model.py:496: ConvergenceWarning: Maximum Likelihood optimization failed to converge. Check mle_retvals\n",
      "  \"Check mle_retvals\", ConvergenceWarning)\n"
     ]
    },
    {
     "name": "stdout",
     "output_type": "stream",
     "text": [
      "predicted=1.419509, expected=1.441118\n",
      "predicted=1.446535, expected=1.426194\n",
      "predicted=1.415559, expected=1.406498\n",
      "predicted=1.396394, expected=1.394040\n",
      "predicted=1.390202, expected=1.456306\n",
      "predicted=1.488058, expected=1.524448\n",
      "predicted=1.566123, expected=1.643323\n",
      "predicted=1.717851, expected=1.709190\n",
      "predicted=1.750991, expected=1.706914\n",
      "predicted=1.705015, expected=1.695903\n",
      "predicted=1.691254, expected=1.707419\n",
      "predicted=1.718736, expected=1.682576\n",
      "predicted=1.664312, expected=1.640437\n",
      "predicted=1.615548, expected=1.600270\n",
      "predicted=1.577164, expected=1.565273\n",
      "predicted=1.542109, expected=1.572014\n",
      "predicted=1.572720, expected=1.547062\n",
      "predicted=1.534455, expected=1.488230\n",
      "predicted=1.457078, expected=1.471971\n",
      "predicted=1.456777, expected=1.470729\n",
      "predicted=1.470083, expected=1.478369\n",
      "predicted=1.484516, expected=1.385902\n"
     ]
    },
    {
     "name": "stderr",
     "output_type": "stream",
     "text": [
      "/anaconda3/lib/python3.6/site-packages/statsmodels/base/model.py:496: ConvergenceWarning: Maximum Likelihood optimization failed to converge. Check mle_retvals\n",
      "  \"Check mle_retvals\", ConvergenceWarning)\n"
     ]
    },
    {
     "name": "stdout",
     "output_type": "stream",
     "text": [
      "predicted=1.330332, expected=1.396511\n",
      "predicted=1.397198, expected=1.384710\n",
      "predicted=1.379568, expected=1.386784\n",
      "predicted=1.392179, expected=1.381487\n",
      "predicted=1.374614, expected=1.375282\n",
      "predicted=1.372077, expected=1.371811\n",
      "predicted=1.370273, expected=1.362156\n",
      "predicted=1.356076, expected=1.377526\n",
      "predicted=1.383319, expected=1.400799\n"
     ]
    },
    {
     "name": "stderr",
     "output_type": "stream",
     "text": [
      "/anaconda3/lib/python3.6/site-packages/statsmodels/base/model.py:496: ConvergenceWarning: Maximum Likelihood optimization failed to converge. Check mle_retvals\n",
      "  \"Check mle_retvals\", ConvergenceWarning)\n"
     ]
    },
    {
     "name": "stdout",
     "output_type": "stream",
     "text": [
      "predicted=1.416363, expected=1.471972\n"
     ]
    },
    {
     "name": "stderr",
     "output_type": "stream",
     "text": [
      "/anaconda3/lib/python3.6/site-packages/statsmodels/base/model.py:496: ConvergenceWarning: Maximum Likelihood optimization failed to converge. Check mle_retvals\n",
      "  \"Check mle_retvals\", ConvergenceWarning)\n"
     ]
    },
    {
     "name": "stdout",
     "output_type": "stream",
     "text": [
      "predicted=1.518612, expected=1.482857\n",
      "predicted=1.487576, expected=1.484402\n",
      "predicted=1.486319, expected=1.495742\n",
      "predicted=1.502976, expected=1.504418\n",
      "predicted=1.509639, expected=1.507612\n",
      "predicted=1.507107, expected=1.482949\n",
      "predicted=1.470936, expected=1.446679\n",
      "predicted=1.428994, expected=1.445712\n",
      "predicted=1.440063, expected=1.435508\n",
      "predicted=1.430155, expected=1.413975\n",
      "predicted=1.401822, expected=1.416404\n",
      "predicted=1.416932, expected=1.400125\n"
     ]
    },
    {
     "name": "stderr",
     "output_type": "stream",
     "text": [
      "/anaconda3/lib/python3.6/site-packages/statsmodels/base/model.py:496: ConvergenceWarning: Maximum Likelihood optimization failed to converge. Check mle_retvals\n",
      "  \"Check mle_retvals\", ConvergenceWarning)\n"
     ]
    },
    {
     "name": "stdout",
     "output_type": "stream",
     "text": [
      "predicted=1.387867, expected=1.399542\n",
      "predicted=1.400593, expected=1.399822\n",
      "predicted=1.404200, expected=1.392742\n",
      "predicted=1.384686, expected=1.387739\n",
      "predicted=1.385102, expected=1.382762\n",
      "predicted=1.380469, expected=1.419805\n",
      "predicted=1.440679, expected=1.414375\n",
      "predicted=1.409681, expected=1.404402\n",
      "predicted=1.400439, expected=1.400077\n",
      "predicted=1.401405, expected=1.397671\n"
     ]
    },
    {
     "name": "stderr",
     "output_type": "stream",
     "text": [
      "/anaconda3/lib/python3.6/site-packages/statsmodels/base/model.py:496: ConvergenceWarning: Maximum Likelihood optimization failed to converge. Check mle_retvals\n",
      "  \"Check mle_retvals\", ConvergenceWarning)\n"
     ]
    },
    {
     "name": "stdout",
     "output_type": "stream",
     "text": [
      "predicted=1.392193, expected=1.475911\n",
      "predicted=1.520862, expected=1.489264\n",
      "predicted=1.500656, expected=1.515209\n"
     ]
    },
    {
     "name": "stderr",
     "output_type": "stream",
     "text": [
      "/anaconda3/lib/python3.6/site-packages/statsmodels/base/model.py:496: ConvergenceWarning: Maximum Likelihood optimization failed to converge. Check mle_retvals\n",
      "  \"Check mle_retvals\", ConvergenceWarning)\n"
     ]
    },
    {
     "name": "stdout",
     "output_type": "stream",
     "text": [
      "predicted=1.530087, expected=1.545146\n",
      "predicted=1.560405, expected=1.546960\n",
      "predicted=1.551004, expected=1.583824\n",
      "predicted=1.609144, expected=1.606146\n",
      "predicted=1.617161, expected=1.614035\n",
      "predicted=1.619577, expected=1.589106\n",
      "predicted=1.576510, expected=1.598551\n",
      "predicted=1.602592, expected=1.601978\n",
      "predicted=1.601266, expected=1.563034\n",
      "predicted=1.543177, expected=1.511403\n",
      "predicted=1.484612, expected=1.430493\n",
      "predicted=1.378923, expected=1.399020\n",
      "predicted=1.377817, expected=1.388236\n",
      "predicted=1.382257, expected=1.383018\n",
      "predicted=1.379114, expected=1.380693\n",
      "predicted=1.375835, expected=1.375844\n"
     ]
    },
    {
     "name": "stderr",
     "output_type": "stream",
     "text": [
      "/anaconda3/lib/python3.6/site-packages/statsmodels/base/model.py:496: ConvergenceWarning: Maximum Likelihood optimization failed to converge. Check mle_retvals\n",
      "  \"Check mle_retvals\", ConvergenceWarning)\n"
     ]
    },
    {
     "name": "stdout",
     "output_type": "stream",
     "text": [
      "predicted=1.374864, expected=1.392724\n",
      "predicted=1.405754, expected=1.387407\n",
      "predicted=1.382082, expected=1.391423\n",
      "Test rmse: 0.028\n"
     ]
    },
    {
     "data": {
      "image/png": "[encoded data removed]",
      "text/plain": [
       "<matplotlib.figure.Figure at 0x1c22514e10>"
      ]
     },
     "metadata": {},
     "output_type": "display_data"
    }
   ],
   "source": [
    "history = [x for x in train_log]\n",
    "predictions = list()\n",
    "predict_log = list()\n",
    "for t in range(len(test_log)):\n",
    "    model = sm.tsa.SARIMAX(history, order=my_order, seasonal_order=my_seasonal_order,enforce_stationarity=False,enforce_invertibility=False)\n",
    "    model_fit = model.fit(disp=0)\n",
    "    output = model_fit.forecast()\n",
    "    predict_log.append(output[0])\n",
    "    yhat = 10**output[0]\n",
    "    predictions.append(yhat)\n",
    "    obs = test_log[t]\n",
    "    history.append(obs)\n",
    "    print('predicted=%f, expected=%f' % (output[0], obs))\n",
    "error = math.sqrt(mean_squared_error(test_log, predict_log))\n",
    "print('Test rmse: %.3f' % error)\n",
    "# plot\n",
    "figsize=(12, 7)\n",
    "plt.figure(figsize=figsize)\n",
    "pyplot.plot(test,label='Actuals')\n",
    "pyplot.plot(predictions, color='red',label='Predicted')\n",
    "pyplot.legend(loc='upper right')\n",
    "pyplot.xlabel(\"hours\")\n",
    "pyplot.ylabel(\"kBtu\")\n",
    "pyplot.show()"
   ]
  },
  {
   "cell_type": "code",
   "execution_count": null,
   "metadata": {},
   "outputs": [],
   "source": []
  }
 ],
 "metadata": {
  "kernelspec": {
   "display_name": "Python 3",
   "language": "python",
   "name": "python3"
  },
  "language_info": {
   "codemirror_mode": {
    "name": "ipython",
    "version": 3
   },
   "file_extension": ".py",
   "mimetype": "text/x-python",
   "name": "python",
   "nbconvert_exporter": "python",
   "pygments_lexer": "ipython3",
   "version": "3.6.8"
  }
 },
 "nbformat": 4,
 "nbformat_minor": 2
}
