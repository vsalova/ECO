{
 "cells": [
  {
   "cell_type": "markdown",
   "metadata": {
    "colab_type": "text",
    "id": "gZB6B4X5Riud"
   },
   "source": [
    "# Introduction\n",
    "The purpose of this notebook is to introduce and go over the basics of the Python programming language. We'll be looking at Python from the viewpoint of someone who has familiarity with programming already in a lower-level language like C or C++. This notebook was adapted from [Justin Johnson's Intro to Python tutorial.](http://cs231n.github.io/python-numpy-tutorial/#python-containers)\n",
    "\n",
    "\n",
    "\n"
   ]
  },
  {
   "cell_type": "markdown",
   "metadata": {
    "colab_type": "text",
    "id": "NlikIquaR_RB"
   },
   "source": [
    "## What is Python?\n",
    "Python is a **high-level**, **dynamically typed** and **interpreted** language. For those without a CS background, the previous statement may seem a little too jargony, so lets unpack it. \n",
    "\n",
    "### High-Level\n",
    "When we say a language is high-level, it generally means that it is a language with a lot more built in abstractions to hide some of the nastier parts of programming. A common practice is for people to prototype algorithms with high-level languages and then write faster implementations of those algorithms in a lower level language like C++. Throughout this notebook, we'll be making comparisons to C in order to give a better understanding of the advantages that a high-level language offers over a lower-level one. \n",
    "\n",
    "### Interpreted Language\n",
    "Here lies the first difference between C and Python. In C, in order to run our code on our machines, we must first compile it. As a review, compiling a program means taking the language syntax and turning it into machine code that can actually run on your computer's processor. The problem with this approach is that you need to write your program and then compile it and then run it. This can be cumbersome when trying to do rapid prototyping of an algorithm. It's hard to focus on making a good algorithm when you're getting bogged down by compiler errors. Python aims to fix this by interpreting lines of code. Interpreting simply means we can run a line of code as soon as we type it out. This happens to be how our IPython Notebooks work. For each cell of code that we run, the Python interpreter is called to run and execute each line. The advantage of this is that we can instantly see the results of each line of code as we are developing it. This makes it much easier to prototype a program and ensure its working. The below cell gives an example of how this works. You can run a cell by pressing the play button or using the keyboard shortcut Shift + enter.\n",
    "\n",
    "\n"
   ]
  },
  {
   "cell_type": "code",
   "execution_count": 1,
   "metadata": {
    "colab": {
     "base_uri": "https://localhost:8080/",
     "height": 34
    },
    "colab_type": "code",
    "executionInfo": {
     "elapsed": 405,
     "status": "ok",
     "timestamp": 1562878316343,
     "user": {
      "displayName": "Teja Aluru",
      "photoUrl": "",
      "userId": "14441573210318130642"
     },
     "user_tz": 420
    },
    "id": "oNam2uECUCJW",
    "outputId": "3f2102f2-c751-4ac9-83fd-fd759ac60ee7"
   },
   "outputs": [
    {
     "name": "stdout",
     "output_type": "stream",
     "text": [
      "[1, 1, 2, 3, 6, 8, 10]\n"
     ]
    }
   ],
   "source": [
    "def quicksort(arr):\n",
    "    if len(arr) <= 1:\n",
    "        return arr\n",
    "    pivot = arr[len(arr) // 2]\n",
    "    left = [x for x in arr if x < pivot]\n",
    "    middle = [x for x in arr if x == pivot]\n",
    "    right = [x for x in arr if x > pivot]\n",
    "    return quicksort(left) + middle + quicksort(right)\n",
    "\n",
    "print(quicksort([3,6,8,10,1,2,1]))"
   ]
  },
  {
   "cell_type": "markdown",
   "metadata": {
    "colab_type": "text",
    "id": "MKf__AK6ulhl"
   },
   "source": [
    "You should immediately notice how simple the python syntax is. The design of the language is such that it should be like writing out pseudocode. Combined with Python's interpreter this makes for some very fast development as you can easily evaluate a statement to see what it does. As an example, lets say we don't quite understand whats going on in the statement \n",
    "\n",
    "```\n",
    "left = [x for x in arr if x < pivot]\n",
    "middle = [x for x in arr if x == pivot]\n",
    "right = [x for x in arr if x > pivot]\n",
    "```\n",
    "Then we can easily pull those lines out of our function and run them to see what they're doing.\n"
   ]
  },
  {
   "cell_type": "code",
   "execution_count": 0,
   "metadata": {
    "colab": {
     "base_uri": "https://localhost:8080/",
     "height": 85
    },
    "colab_type": "code",
    "id": "E1GnZczVvIGV",
    "outputId": "47fcd976-a9b3-437b-aea8-39388b8db0fe"
   },
   "outputs": [
    {
     "name": "stdout",
     "output_type": "stream",
     "text": [
      "Pivot Value:  10\n",
      "Left:  [3, 6, 8, 1, 2, 1]\n",
      "Right:  []\n",
      "Middle:  [10]\n"
     ]
    }
   ],
   "source": [
    "arr = [3, 6, 8, 10, 1, 2, 1]\n",
    "pivot = arr[len(arr) // 2]\n",
    "print(\"Pivot Value: \", pivot)\n",
    "left = [x for x in arr if x < pivot]\n",
    "middle = [x for x in arr if x == pivot]\n",
    "right = [x for x in arr if x > pivot]\n",
    "print(\"Left: \", left)\n",
    "print(\"Right: \", right)\n",
    "print(\"Middle: \", middle)"
   ]
  },
  {
   "cell_type": "markdown",
   "metadata": {
    "colab_type": "text",
    "id": "ldMeWlwmT2vj"
   },
   "source": [
    "### Dynamically Typed\n",
    "When we say a language is dynamically typed it means that our interpreter will determine what the type is for each variable, rather than have the programmer worry about it. In C for example, we would have to type something like \n",
    "\n",
    "```\n",
    "int x = 3\n",
    "```\n",
    "\n",
    "Python allows us to just declare a variable x, and let the language figure out what the type of x should be based on what we assign the variable x too. The below example illustrates how the python interpreter assigns types at runtime. In this case, since y is a decimal value the interpreter automatically makes it a floating point type."
   ]
  },
  {
   "cell_type": "code",
   "execution_count": 0,
   "metadata": {
    "colab": {
     "base_uri": "https://localhost:8080/",
     "height": 51
    },
    "colab_type": "code",
    "id": "zTux_MJHRRiy",
    "outputId": "ae665c00-f0f4-4eb6-cb6b-03c12009f06c"
   },
   "outputs": [
    {
     "name": "stdout",
     "output_type": "stream",
     "text": [
      "<class 'int'>\n",
      "<class 'float'>\n"
     ]
    }
   ],
   "source": [
    "x = 1\n",
    "print(type(x))\n",
    "y = 1.5\n",
    "print(type(y))"
   ]
  },
  {
   "cell_type": "markdown",
   "metadata": {
    "colab_type": "text",
    "id": "RhDf20EjYhh4"
   },
   "source": [
    "#### Important Note\n",
    "A common issue when debugging Python code is that the interpreter has inferred the wrong type for a variable you are working with, causing unforeseen results in your program. If you are struggling to find a logical issue with a large Python program, you should immediately look to use the type() function to verify that the types of your variables are what you expect. As a good practice, you should use an assert for proper type checking in the places of your code you feel its needed. "
   ]
  },
  {
   "cell_type": "code",
   "execution_count": 0,
   "metadata": {
    "colab": {
     "base_uri": "https://localhost:8080/",
     "height": 252
    },
    "colab_type": "code",
    "id": "_MrSefhPYg2B",
    "outputId": "357bf5d7-5646-4d30-ee1d-10cb2a7261b3"
   },
   "outputs": [
    {
     "name": "stdout",
     "output_type": "stream",
     "text": [
      "Correct Variable Typing\n"
     ]
    },
    {
     "ename": "AssertionError",
     "evalue": "ignored",
     "output_type": "error",
     "traceback": [
      "\u001b[0;31m---------------------------------------------------------------------------\u001b[0m",
      "\u001b[0;31mAssertionError\u001b[0m                            Traceback (most recent call last)",
      "\u001b[0;32m<ipython-input-4-773ac2afde14>\u001b[0m in \u001b[0;36m<module>\u001b[0;34m()\u001b[0m\n\u001b[1;32m      2\u001b[0m \u001b[0;32massert\u001b[0m\u001b[0;34m(\u001b[0m\u001b[0mtype\u001b[0m\u001b[0;34m(\u001b[0m\u001b[0mx\u001b[0m\u001b[0;34m)\u001b[0m \u001b[0;32mis\u001b[0m \u001b[0mtype\u001b[0m\u001b[0;34m(\u001b[0m\u001b[0mz\u001b[0m\u001b[0;34m)\u001b[0m\u001b[0;34m)\u001b[0m\u001b[0;34m\u001b[0m\u001b[0m\n\u001b[1;32m      3\u001b[0m \u001b[0mprint\u001b[0m\u001b[0;34m(\u001b[0m\u001b[0;34m\"Correct Variable Typing\"\u001b[0m\u001b[0;34m)\u001b[0m\u001b[0;34m\u001b[0m\u001b[0m\n\u001b[0;32m----> 4\u001b[0;31m \u001b[0;32massert\u001b[0m\u001b[0;34m(\u001b[0m\u001b[0mtype\u001b[0m\u001b[0;34m(\u001b[0m\u001b[0mx\u001b[0m\u001b[0;34m)\u001b[0m \u001b[0;32mis\u001b[0m \u001b[0mtype\u001b[0m\u001b[0;34m(\u001b[0m\u001b[0my\u001b[0m\u001b[0;34m)\u001b[0m\u001b[0;34m)\u001b[0m\u001b[0;34m,\u001b[0m \u001b[0;34m\"Mismatching Types\"\u001b[0m\u001b[0;34m\u001b[0m\u001b[0m\n\u001b[0m\u001b[1;32m      5\u001b[0m \u001b[0;34m\u001b[0m\u001b[0m\n",
      "\u001b[0;31mAssertionError\u001b[0m: Mismatching Types"
     ]
    }
   ],
   "source": [
    "z = 5\n",
    "assert(type(x) is type(z))\n",
    "print(\"Correct Variable Typing\")\n",
    "assert(type(x) is type(y)), \"Mismatching Types\"\n",
    "\n"
   ]
  },
  {
   "cell_type": "markdown",
   "metadata": {
    "colab_type": "text",
    "id": "WAkolozOI2I1"
   },
   "source": [
    "# Basic Data Types in Python\n",
    "This module will cover all the different data types supported in base Python 3. \n",
    "## Integer Types and Arithmetic Operators"
   ]
  },
  {
   "cell_type": "code",
   "execution_count": 0,
   "metadata": {
    "colab": {
     "base_uri": "https://localhost:8080/",
     "height": 187
    },
    "colab_type": "code",
    "id": "OAb7QFf5XvqX",
    "outputId": "9a8db7ae-7369-467f-f6a7-41faee827562"
   },
   "outputs": [
    {
     "name": "stdout",
     "output_type": "stream",
     "text": [
      "<class 'int'>\n",
      "3\n",
      "4\n",
      "2\n",
      "6\n",
      "9\n",
      "4\n",
      "8\n",
      "<class 'float'>\n",
      "2.5 3.5 5.0 6.25\n"
     ]
    }
   ],
   "source": [
    "x = 3\n",
    "print(type(x)) # Prints \"<class 'int'>\"\n",
    "print(x)       # Prints \"3\"\n",
    "print(x + 1)   # Addition; prints \"4\"\n",
    "print(x - 1)   # Subtraction; prints \"2\"\n",
    "print(x * 2)   # Multiplication; prints \"6\"\n",
    "print(x ** 2)  # Exponentiation; prints \"9\"\n",
    "x += 1\n",
    "print(x)  # Prints \"4\"\n",
    "x *= 2\n",
    "print(x)  # Prints \"8\"\n",
    "y = 2.5\n",
    "print(type(y)) # Prints \"<class 'float'>\"\n",
    "print(y, y + 1, y * 2, y ** 2) # Prints \"2.5 3.5 5.0 6.25\""
   ]
  },
  {
   "cell_type": "markdown",
   "metadata": {
    "colab_type": "text",
    "id": "etquGmiLKbPF"
   },
   "source": [
    "Couple of things to note here compared to C/C++. First is that Python has built-in support for exponentiation compared to C and C++. Floats and Ints function the same as in C and C++. There is also no support for unary incrementers such as ``` x++ ``` or  ``` x--```. \n",
    "\n",
    "## Complex Numbers and Operations in Python\n",
    "Python also has support for complex numbers. This a sparsely used, but important feature if you happen to be working with algorithms that rely on complex numbers.\n"
   ]
  },
  {
   "cell_type": "code",
   "execution_count": 0,
   "metadata": {
    "colab": {
     "base_uri": "https://localhost:8080/",
     "height": 170
    },
    "colab_type": "code",
    "id": "T28jhdJEKKRP",
    "outputId": "c29d47e9-1ea0-4b66-a916-8334ec8c989b"
   },
   "outputs": [
    {
     "name": "stdout",
     "output_type": "stream",
     "text": [
      "(3+4j)\n",
      "<class 'complex'>\n",
      "(2.5+4.3j)\n",
      "<class 'complex'>\n",
      "(5.5+8.3j)\n",
      "(-9.7+22.9j)\n",
      "3.0\n",
      "4.0\n",
      "(3-4j)\n"
     ]
    }
   ],
   "source": [
    "c_x = complex(3, 4) # Declare a complex variable  \n",
    "print(c_x)\n",
    "print(type(c_x)) \n",
    "c_y = 2.5 + 4.3J # Declare a complex number using a J or j\n",
    "c_z = 2.3 + 4.5j  \n",
    "print(c_y)\n",
    "print(type(c_y)) # Each syntax still constructs an equivalent complex number\n",
    "print(type(c_z))  \n",
    "print(c_x + c_y) # Complex Numbers can still use the same arithmetic operators\n",
    "print(c_x * c_y)\n",
    "print(c_x.real) # Can extract both the real and imaginary parts\n",
    "print(c_x.imag)\n",
    "print(c_x.conjugate()) # Can also see what the conjugate of our numbers our"
   ]
  },
  {
   "cell_type": "markdown",
   "metadata": {
    "colab_type": "text",
    "id": "-jB2QQkvNZQY"
   },
   "source": [
    "## Booleans in Python\n",
    "Booleans in Python function exactly the same as in C, but their syntax is different. In this case, it uses english words rather than the typical `` || `` or `` && ``."
   ]
  },
  {
   "cell_type": "code",
   "execution_count": 0,
   "metadata": {
    "colab": {},
    "colab_type": "code",
    "id": "ueFFyGlPMAeQ"
   },
   "outputs": [],
   "source": [
    "t = True\n",
    "f = False\n",
    "print(type(t)) # Prints \"<class 'bool'>\"\n",
    "print(t and f) # Logical AND; prints \"False\"\n",
    "print(t or f)  # Logical OR; prints \"True\"\n",
    "print(not t)   # Logical NOT; prints \"False\"\n",
    "print(t != f)  # Logical XOR; prints \"True\""
   ]
  },
  {
   "cell_type": "markdown",
   "metadata": {
    "colab_type": "text",
    "id": "MZBwn2iON8Xr"
   },
   "source": [
    "## Strings in Python\n",
    "Unlike C, Python has built-in support for strings. This makes it much easier to do text processing and file parsing, since Python has so many powerful builtin methods to process strings. This is another reason that Python is so popular for data science, because it can so easily parse a variety of different file formats using only builtin language functions."
   ]
  },
  {
   "cell_type": "code",
   "execution_count": 0,
   "metadata": {
    "colab": {},
    "colab_type": "code",
    "id": "mw5QcrEPOZJz"
   },
   "outputs": [],
   "source": [
    "hello = 'hello'    # String literals can use single quotes\n",
    "world = \"world\"    # or double quotes; it does not matter.\n",
    "print(hello)       # Prints \"hello\"\n",
    "print(len(hello))  # String length; prints \"5\"\n",
    "hw = hello + ' ' + world  # String concatenation\n",
    "print(hw)  # prints \"hello world\"\n",
    "hw12 = '%s %s %d' % (hello, world, 12)  # sprintf style string formatting\n",
    "print(hw12)  # prints \"hello world 12\""
   ]
  },
  {
   "cell_type": "markdown",
   "metadata": {
    "colab_type": "text",
    "id": "Lk4DZQsZOjTr"
   },
   "source": [
    "### Useful String Functions"
   ]
  },
  {
   "cell_type": "code",
   "execution_count": 0,
   "metadata": {
    "colab": {},
    "colab_type": "code",
    "id": "RwSJoQnqOmVY"
   },
   "outputs": [],
   "source": [
    "s = \"hello\"\n",
    "print(s.capitalize())  # Capitalize a string; prints \"Hello\"\n",
    "print(s.upper())       # Convert a string to uppercase; prints \"HELLO\"\n",
    "print(s.rjust(7))      # Right-justify a string, padding with spaces; prints \"  hello\"\n",
    "print(s.center(7))     # Center a string, padding with spaces; prints \" hello \"\n",
    "print(s.replace('l', '(ell)'))  # Replace all instances of one substring with another;\n",
    "                                # prints \"he(ell)(ell)o\"\n",
    "print('  world '.strip())  # Strip leading and trailing whitespace; prints \"world\""
   ]
  },
  {
   "cell_type": "markdown",
   "metadata": {
    "colab_type": "text",
    "id": "jIGoUdfkO6CL"
   },
   "source": [
    "Additional string functions are available in the [offical](https://docs.python.org/3.5/library/stdtypes.html#string-methods) Python documentation.\n"
   ]
  },
  {
   "cell_type": "markdown",
   "metadata": {
    "colab_type": "text",
    "id": "-Tx9BkFhPHNe"
   },
   "source": [
    "# Data Structures in Python\n",
    "Python has a variety of useful data structures built into the language. This section will cover the 4 different types: lists, dictionaries, sets, and tuples. \n",
    "\n",
    "## Lists\n",
    "Lists in Python are equivalent to arrays in C, but shares a little more similarity to a vector in C++, in the sense that lists in Python are resizable. They have a unique behavior compared to C++, because one array can contain elements of different types. This is generally true of all structures in Python and is another builtin advantage of the language."
   ]
  },
  {
   "cell_type": "code",
   "execution_count": null,
   "metadata": {},
   "outputs": [],
   "source": []
  },
  {
   "cell_type": "code",
   "execution_count": 0,
   "metadata": {
    "colab": {
     "base_uri": "https://localhost:8080/",
     "height": 102
    },
    "colab_type": "code",
    "id": "uWkm1KET5LWW",
    "outputId": "025ab125-94c8-4fe9-9cc4-5c5cb78678a5"
   },
   "outputs": [
    {
     "name": "stdout",
     "output_type": "stream",
     "text": [
      "[4, 5, 6] 6\n",
      "6\n",
      "[4, 5, 'foo']\n",
      "[4, 5, 'foo', 'bar']\n",
      "bar [4, 5, 'foo']\n"
     ]
    }
   ],
   "source": [
    "xs = [4, 5, 6]    \n",
    "print(xs, xs[2]) # Can print the whole list, and individual elements through indexing\n",
    "print(xs[-1]) # Python supports negative indexing, -1 prints the last element     \n",
    "xs[2] = 'foo' # Lists can have multiple datatypes\n",
    "print(xs)         \n",
    "xs.append('bar') # And we can easily add elements\n",
    "print(xs)         \n",
    "x = xs.pop() # Remove the last element in the list      \n",
    "print(x, xs)      "
   ]
  },
  {
   "cell_type": "markdown",
   "metadata": {
    "colab_type": "text",
    "id": "hZugMe-f6CRm"
   },
   "source": [
    "For more specific details on lists, refer to [the documentation.](https://docs.python.org/3.5/tutorial/datastructures.html#more-on-lists)\n",
    "\n",
    "\n",
    "**Slicing:** In addition to accessing list elements one at a time, Python provides concise syntax to access sublists; this is known as slicing."
   ]
  },
  {
   "cell_type": "code",
   "execution_count": 0,
   "metadata": {
    "colab": {},
    "colab_type": "code",
    "id": "FRCrseUL5a5n"
   },
   "outputs": [],
   "source": [
    "nums = list(range(5))     # range is a built-in function that creates a list of integers\n",
    "print(nums)               \n",
    "print(nums[2:4])          # Get a slice from index 2 to 4 (exclusive); \n",
    "print(nums[2:])           # Get a slice from index 2 to the end; \n",
    "print(nums[:2])           # Get a slice from the start to index 2 (exclusive); \n",
    "print(nums[:])            # Get a slice of the whole list; \n",
    "print(nums[:-1])          # Slice indices can be negative; \n",
    "nums[2:4] = [8, 9]        # Assign a new sublist to a slice\n",
    "print(nums)               "
   ]
  },
  {
   "cell_type": "markdown",
   "metadata": {
    "colab_type": "text",
    "id": "_9j3VOTH8mug"
   },
   "source": [
    "**Loops:** You can loop over elements of a list like this:"
   ]
  },
  {
   "cell_type": "code",
   "execution_count": 0,
   "metadata": {
    "colab": {},
    "colab_type": "code",
    "id": "hfPuw5FV8zkG"
   },
   "outputs": [],
   "source": [
    "animals = ['cat', 'dog', 'monkey']\n",
    "for animal in animals:\n",
    "    print(animal)"
   ]
  },
  {
   "cell_type": "markdown",
   "metadata": {
    "colab_type": "text",
    "id": "-EMHRUNZ8__8"
   },
   "source": [
    "If you want access to the index while looping through a list, use the ``enumerate`` function."
   ]
  },
  {
   "cell_type": "code",
   "execution_count": 0,
   "metadata": {
    "colab": {},
    "colab_type": "code",
    "id": "NWQhoar39O3q"
   },
   "outputs": [],
   "source": [
    "animals = ['cat', 'dog', 'monkey']\n",
    "for idx, animal in enumerate(animals):\n",
    "    print('#%d: %s' % (idx + 1, animal))"
   ]
  },
  {
   "cell_type": "markdown",
   "metadata": {
    "colab_type": "text",
    "id": "r2DlpqBi9iMQ"
   },
   "source": [
    "As you can see, it is much easier to iterate through a list in python, than a vector in C++, and even an array in C.\n",
    "\n",
    "**List Comprehensions:** If we ever wanna apply the same operation to every element in a list, we can use list comprehension. We can illustrate this by showing two different ways to square a list of numbers."
   ]
  },
  {
   "cell_type": "code",
   "execution_count": 0,
   "metadata": {
    "colab": {
     "base_uri": "https://localhost:8080/",
     "height": 51
    },
    "colab_type": "code",
    "id": "THpkqflx-Ddm",
    "outputId": "52d08494-5f6b-43f0-91cf-5b1e2583d35e"
   },
   "outputs": [
    {
     "name": "stdout",
     "output_type": "stream",
     "text": [
      "[0, 1, 2, 3, 4]\n",
      "[0, 1, 4, 9, 16]\n"
     ]
    }
   ],
   "source": [
    "nums = list(range(5)) # Create a list from 0-4\n",
    "print(nums)\n",
    "squares = []\n",
    "for x in nums:\n",
    "  squares.append(x ** 2)\n",
    "print(squares)\n"
   ]
  },
  {
   "cell_type": "markdown",
   "metadata": {
    "colab_type": "text",
    "id": "ZRc2bboc-cJe"
   },
   "source": [
    "This can be done easier using list comprehension:"
   ]
  },
  {
   "cell_type": "code",
   "execution_count": 0,
   "metadata": {
    "colab": {
     "base_uri": "https://localhost:8080/",
     "height": 34
    },
    "colab_type": "code",
    "id": "gjVCXZB3-IpQ",
    "outputId": "8e80c9e0-ffa2-465a-8639-c3a0de8b2fda"
   },
   "outputs": [
    {
     "name": "stdout",
     "output_type": "stream",
     "text": [
      "[0, 1, 4, 9, 16]\n"
     ]
    }
   ],
   "source": [
    "nums = list(range(5))\n",
    "squares = [x ** 2 for x in nums]\n",
    "print(squares)"
   ]
  },
  {
   "cell_type": "markdown",
   "metadata": {},
   "source": [
    "The basic syntax for list comprehenstion is this: **new_list = [expression for item in list if conditional]**  \n",
    "Which is the same as: "
   ]
  },
  {
   "cell_type": "code",
   "execution_count": null,
   "metadata": {},
   "outputs": [],
   "source": [
    "for item in list:\n",
    "    if conditional:\n",
    "        expression"
   ]
  },
  {
   "cell_type": "markdown",
   "metadata": {},
   "source": [
    "A more complicated example is:"
   ]
  },
  {
   "cell_type": "code",
   "execution_count": 1,
   "metadata": {},
   "outputs": [
    {
     "name": "stdout",
     "output_type": "stream",
     "text": [
      "['1', '2', '3', '4', '5']\n"
     ]
    }
   ],
   "source": [
    "string = \"Hello 12345 World\"\n",
    "numbers = [x for x in string if x.isdigit()]\n",
    "print(numbers)"
   ]
  },
  {
   "cell_type": "markdown",
   "metadata": {
    "colab_type": "text",
    "id": "QxoYwViU-2lg"
   },
   "source": [
    "We already saw how list comprehensions can be used to easily implement the quicksort algorithm in the earlier part of this notebook.\n",
    "\n",
    "## Dictionaries\n",
    "Dictionaries in Python are equivalent to a map in C++. They store (key, value) pairs and allow efficient lookups for values mapped by keys. "
   ]
  },
  {
   "cell_type": "code",
   "execution_count": 0,
   "metadata": {
    "colab": {
     "base_uri": "https://localhost:8080/",
     "height": 303
    },
    "colab_type": "code",
    "id": "rOHjD5cI-0T7",
    "outputId": "f4971258-e629-4aa6-c806-2b107f798faf"
   },
   "outputs": [
    {
     "name": "stdout",
     "output_type": "stream",
     "text": [
      "cute\n",
      "True\n",
      "wet\n"
     ]
    },
    {
     "ename": "KeyError",
     "evalue": "ignored",
     "output_type": "error",
     "traceback": [
      "\u001b[0;31m---------------------------------------------------------------------------\u001b[0m",
      "\u001b[0;31mKeyError\u001b[0m                                  Traceback (most recent call last)",
      "\u001b[0;32m<ipython-input-18-2c0b91ecbba9>\u001b[0m in \u001b[0;36m<module>\u001b[0;34m()\u001b[0m\n\u001b[1;32m      4\u001b[0m \u001b[0md\u001b[0m\u001b[0;34m[\u001b[0m\u001b[0;34m'fish'\u001b[0m\u001b[0;34m]\u001b[0m \u001b[0;34m=\u001b[0m \u001b[0;34m'wet'\u001b[0m     \u001b[0;31m# Set an entry in a dictionary\u001b[0m\u001b[0;34m\u001b[0m\u001b[0m\n\u001b[1;32m      5\u001b[0m \u001b[0mprint\u001b[0m\u001b[0;34m(\u001b[0m\u001b[0md\u001b[0m\u001b[0;34m[\u001b[0m\u001b[0;34m'fish'\u001b[0m\u001b[0;34m]\u001b[0m\u001b[0;34m)\u001b[0m\u001b[0;34m\u001b[0m\u001b[0m\n\u001b[0;32m----> 6\u001b[0;31m \u001b[0mprint\u001b[0m\u001b[0;34m(\u001b[0m\u001b[0md\u001b[0m\u001b[0;34m[\u001b[0m\u001b[0;34m'monkey'\u001b[0m\u001b[0;34m]\u001b[0m\u001b[0;34m)\u001b[0m\u001b[0;34m\u001b[0m\u001b[0m\n\u001b[0m\u001b[1;32m      7\u001b[0m \u001b[0mprint\u001b[0m\u001b[0;34m(\u001b[0m\u001b[0md\u001b[0m\u001b[0;34m.\u001b[0m\u001b[0mget\u001b[0m\u001b[0;34m(\u001b[0m\u001b[0;34m'monkey'\u001b[0m\u001b[0;34m,\u001b[0m \u001b[0;34m'N/A'\u001b[0m\u001b[0;34m)\u001b[0m\u001b[0;34m)\u001b[0m  \u001b[0;31m# Get an element with a default\u001b[0m\u001b[0;34m\u001b[0m\u001b[0m\n\u001b[1;32m      8\u001b[0m \u001b[0mprint\u001b[0m\u001b[0;34m(\u001b[0m\u001b[0md\u001b[0m\u001b[0;34m.\u001b[0m\u001b[0mget\u001b[0m\u001b[0;34m(\u001b[0m\u001b[0;34m'fish'\u001b[0m\u001b[0;34m,\u001b[0m \u001b[0;34m'N/A'\u001b[0m\u001b[0;34m)\u001b[0m\u001b[0;34m)\u001b[0m    \u001b[0;31m# Get an element with a default\u001b[0m\u001b[0;34m\u001b[0m\u001b[0m\n",
      "\u001b[0;31mKeyError\u001b[0m: 'monkey'"
     ]
    }
   ],
   "source": [
    "d = {'cat': 'cute', 'dog': 'furry'}  # Create a new dictionary with some data\n",
    "print(d['cat'])       # Get an entry from a dictionary\n",
    "print('cat' in d)     # Check if a dictionary has a given key\n",
    "d['fish'] = 'wet'     # Set an entry in a dictionary\n",
    "print(d['fish'])      \n",
    "print(d['monkey']) # KeyError will be thrown\n",
    "print(d.get('monkey', 'N/A'))  # Get an element with a default\n",
    "print(d.get('fish', 'N/A'))    # Get an element with a default\n",
    "del d['fish']         # Remove an element from a dictionary\n",
    "print(d.get('fish', 'N/A')) # \"fish\" is no longer a key"
   ]
  },
  {
   "cell_type": "markdown",
   "metadata": {
    "colab_type": "text",
    "id": "ZuCtqqyF__KC"
   },
   "source": [
    "**Loops:** It is easy to iterate over the keys in a dictionary:"
   ]
  },
  {
   "cell_type": "code",
   "execution_count": 0,
   "metadata": {
    "colab": {},
    "colab_type": "code",
    "id": "1JibnFnN_0aZ"
   },
   "outputs": [],
   "source": [
    "d = {'person': 2, 'cat': 4, 'spider': 8}\n",
    "for animal in d:\n",
    "    legs = d[animal]\n",
    "    print('A %s has %d legs' % (animal, legs))"
   ]
  },
  {
   "cell_type": "markdown",
   "metadata": {
    "colab_type": "text",
    "id": "gMfvIChMAfKj"
   },
   "source": [
    "If you want access to keys and their corresponding values, use the `items` method:"
   ]
  },
  {
   "cell_type": "code",
   "execution_count": 0,
   "metadata": {
    "colab": {},
    "colab_type": "code",
    "id": "xyruuAhFAmCA"
   },
   "outputs": [],
   "source": [
    "d = {'person': 2, 'cat': 4, 'spider': 8}\n",
    "for animal, legs in d.items():\n",
    "    print('A %s has %d legs' % (animal, legs))"
   ]
  },
  {
   "cell_type": "markdown",
   "metadata": {
    "colab_type": "text",
    "id": "wEG2xQDXAnfw"
   },
   "source": [
    "**Dictionary comprehensions:** These are similar to list comprehensions, but allow you to easily construct dictionaries. For example:"
   ]
  },
  {
   "cell_type": "code",
   "execution_count": 0,
   "metadata": {
    "colab": {},
    "colab_type": "code",
    "id": "lqjy6uloAuyu"
   },
   "outputs": [],
   "source": [
    "nums = [0, 1, 2, 3, 4]\n",
    "even_num_to_square = {x: x ** 2 for x in nums if x % 2 == 0}\n",
    "print(even_num_to_square)"
   ]
  },
  {
   "cell_type": "markdown",
   "metadata": {
    "colab_type": "text",
    "id": "c_HnPvIeAzpZ"
   },
   "source": [
    "## Sets\n",
    "A set is an unordered collection of distinct elements. Sets are useful when you want to efficiently check if an element is in a set or not. For those familiar with the concept, the Python set is an implementation of a hash table. As a simple example, consider the following:"
   ]
  },
  {
   "cell_type": "code",
   "execution_count": 0,
   "metadata": {
    "colab": {},
    "colab_type": "code",
    "id": "H2DXt6r-BK9h"
   },
   "outputs": [],
   "source": [
    "animals = {'cat', 'dog'}\n",
    "print('cat' in animals)   # Check if an element is in a set;\n",
    "print('fish' in animals)  \n",
    "animals.add('fish')       # Add an element to a set\n",
    "print('fish' in animals)  \n",
    "print(len(animals))       # Number of elements in a set; \n",
    "animals.add('cat')        # Adding an element that is already in the set does nothing\n",
    "print(len(animals))       \n",
    "animals.remove('cat')     # Remove an element from a set\n",
    "print(len(animals))       "
   ]
  },
  {
   "cell_type": "markdown",
   "metadata": {
    "colab_type": "text",
    "id": "EecyOrcNBsCk"
   },
   "source": [
    "**Loops:** Iterating over a set has the same syntax as iterating over a list; however since sets are unordered, you cannot make assumptions about the order in which you visit the elements of the set:"
   ]
  },
  {
   "cell_type": "code",
   "execution_count": 0,
   "metadata": {
    "colab": {},
    "colab_type": "code",
    "id": "DZCR0EjaB0Oc"
   },
   "outputs": [],
   "source": [
    "animals = {'cat', 'dog', 'fish'}\n",
    "for idx, animal in enumerate(animals):\n",
    "    print('#%d: %s' % (idx + 1, animal))"
   ]
  },
  {
   "cell_type": "markdown",
   "metadata": {
    "colab_type": "text",
    "id": "xqe-XWAQB5s6"
   },
   "source": [
    "**Set comprehensions:** Like lists and dictionaries, we can easily construct sets using set comprehensions:"
   ]
  },
  {
   "cell_type": "code",
   "execution_count": 0,
   "metadata": {
    "colab": {},
    "colab_type": "code",
    "id": "M7wIJ4ppC0RP"
   },
   "outputs": [],
   "source": [
    "from math import sqrt\n",
    "nums = {int(sqrt(x)) for x in range(30)}\n",
    "print(nums)"
   ]
  },
  {
   "cell_type": "markdown",
   "metadata": {
    "colab_type": "text",
    "id": "l_wGslh9C2RF"
   },
   "source": [
    "## Tuples \n",
    "A tuple is an (immutable) ordered list of values. A tuple is in many ways similar to a list; one of the most important differences is that tuples can be used as keys in dictionaries and as elements of sets, while lists cannot. There is no really great analog to a tuple in C or C++, but Tuples and structs are used in much the same way. Quick and easy data abstraction to represent something without too much trouble. Here is a trivial example:"
   ]
  },
  {
   "cell_type": "code",
   "execution_count": 2,
   "metadata": {
    "colab": {},
    "colab_type": "code",
    "id": "0RguKB1eDj79"
   },
   "outputs": [
    {
     "name": "stdout",
     "output_type": "stream",
     "text": [
      "<class 'tuple'>\n",
      "5\n",
      "1\n"
     ]
    }
   ],
   "source": [
    "d = {(x, x + 1): x for x in range(10)}  # Create a dictionary with tuple keys\n",
    "t = (5, 6)        # Create a tuple\n",
    "print(type(t))    \n",
    "print(d[t])       \n",
    "print(d[(1, 2)])"
   ]
  },
  {
   "cell_type": "markdown",
   "metadata": {
    "colab_type": "text",
    "id": "Sndi-_gtD_w3"
   },
   "source": [
    "# Functions\n",
    "Python functions are defined using the `def ` keyword. For example:"
   ]
  },
  {
   "cell_type": "code",
   "execution_count": 0,
   "metadata": {
    "colab": {},
    "colab_type": "code",
    "id": "wGg_1OplEOzg"
   },
   "outputs": [],
   "source": [
    "def sign(x):\n",
    "    if x > 0:\n",
    "        return 'positive'\n",
    "    elif x < 0:\n",
    "        return 'negative'\n",
    "    else:\n",
    "        return 'zero'\n",
    "\n",
    "for x in [-1, 0, 1]:\n",
    "    print(sign(x))"
   ]
  },
  {
   "cell_type": "markdown",
   "metadata": {
    "colab_type": "text",
    "id": "sxtzT8zrESQA"
   },
   "source": [
    "We will often define functions to take optional keyword arguments, like this:\n",
    "\n"
   ]
  },
  {
   "cell_type": "code",
   "execution_count": 12,
   "metadata": {
    "colab": {},
    "colab_type": "code",
    "id": "QuSQIyMdEWcm"
   },
   "outputs": [
    {
     "name": "stdout",
     "output_type": "stream",
     "text": [
      "Hello, Bob\n",
      "HELLO, FRED!\n"
     ]
    }
   ],
   "source": [
    "def hello(name, loud=False):\n",
    "    if loud:\n",
    "        print('HELLO, %s!' % name.upper())\n",
    "    else:\n",
    "        print('Hello, %s' % name)\n",
    "\n",
    "hello('Bob') \n",
    "hello('Fred', loud=True)"
   ]
  },
  {
   "cell_type": "markdown",
   "metadata": {
    "colab_type": "text",
    "id": "k8pnu63nEdX1"
   },
   "source": [
    "# Classes\n",
    "The syntax for defining classes in Python is straightforward:"
   ]
  },
  {
   "cell_type": "code",
   "execution_count": 0,
   "metadata": {
    "colab": {
     "base_uri": "https://localhost:8080/",
     "height": 34
    },
    "colab_type": "code",
    "id": "MvtIyrOJEkkE",
    "outputId": "125ce42c-1ad2-445a-dfe6-cc5d25366f6f"
   },
   "outputs": [
    {
     "name": "stdout",
     "output_type": "stream",
     "text": [
      "New Position:  10\n"
     ]
    }
   ],
   "source": [
    "class Car(object):\n",
    "  \n",
    "  # Constructor\n",
    "  def __init__(self, init_pos):\n",
    "      self.pos = init_pos\n",
    "      \n",
    "  # Class Methods\n",
    "  def drive(self, distance):\n",
    "      self.pos += distance\n",
    "      print(\"New Position: \", self.pos)\n",
    "\n",
    "      \n",
    "c = Car(0)  # Create the Car object\n",
    "c.drive(10) # call a function "
   ]
  },
  {
   "cell_type": "markdown",
   "metadata": {
    "colab_type": "text",
    "id": "wZtzM0avGU29"
   },
   "source": [
    "As a note, everything in a Python class is `public`. This is obviously an increased security risk, so Python is relying on programmer responsibility. That means that you as the programmer should take time to ensure your programs are secure."
   ]
  },
  {
   "cell_type": "markdown",
   "metadata": {},
   "source": [
    "Since `private` variables don’t exist in Python, there is a convention that is followed by most Python code: a name prefixed with an underscore (e.g. \\_spam) should be treated as a non-public part of the API, whether it is a function, a method or a data member."
   ]
  },
  {
   "cell_type": "markdown",
   "metadata": {},
   "source": [
    "### Class Inheritance"
   ]
  },
  {
   "cell_type": "code",
   "execution_count": 8,
   "metadata": {},
   "outputs": [
    {
     "name": "stdout",
     "output_type": "stream",
     "text": [
      "New Position:  10\n",
      "['Anna', 'Bill', 'Carol']\n",
      "['Eli', 'Ford', 'George']\n"
     ]
    }
   ],
   "source": [
    "class Driver():\n",
    "    def __init__(self, person):\n",
    "        self.person = person\n",
    "        \n",
    "    def passengers(self, passenger1, passenger2, passenger3):\n",
    "        self.passengers = [passenger1, passenger2, passenger3]\n",
    "        print(self.passengers)\n",
    "\n",
    "class Car(Driver, object):\n",
    "  \n",
    "  # Constructor\n",
    "  def __init__(self, init_pos):\n",
    "      self.pos = init_pos\n",
    "      \n",
    "  # Class Methods\n",
    "  def drive(self, distance):\n",
    "      self.pos += distance\n",
    "      print(\"New Position: \", self.pos)\n",
    "\n",
    "# using the derived class\n",
    "c = Car(0)\n",
    "c.drive(10)\n",
    "c.passengers(\"Anna\", \"Bill\", \"Carol\")\n",
    "\n",
    "# just using the base class\n",
    "d = Driver(\"Dana\")\n",
    "d.passengers(\"Eli\", \"Ford\", \"George\")"
   ]
  },
  {
   "cell_type": "markdown",
   "metadata": {},
   "source": [
    "The name base class (Driver in this case) must be defined in a scope containing the derived class definition (Car). In place of a base class name, other arbitrary expressions are also allowed. This can be useful, for example, when the base class is defined in another module, in which case it should be called as module.Driver.\n",
    "\n",
    "When a class object is constructed, the base class is remembered. So if a requested attribute is not found in the class, the search proceeds to look in the base class.\n",
    "\n",
    "Be careful, because derived classes may override methods of their base classes."
   ]
  },
  {
   "cell_type": "markdown",
   "metadata": {},
   "source": [
    "# Lambda Functions"
   ]
  },
  {
   "cell_type": "markdown",
   "metadata": {},
   "source": [
    "Lambda comes from the Lambda Calculus and refers to anonymous functions in programming.\n",
    "\n",
    "It lets you to write quick throw away functions without naming them. The downside, however, is that these functions can get very complicated and hard to undersatand, so keep them simple."
   ]
  },
  {
   "cell_type": "code",
   "execution_count": 10,
   "metadata": {},
   "outputs": [
    {
     "data": {
      "text/plain": [
       "3"
      ]
     },
     "execution_count": 10,
     "metadata": {},
     "output_type": "execute_result"
    }
   ],
   "source": [
    "add_one = lambda x: x + 1 #definition of the function\n",
    "add_one(2) #calling the function and providing an argument"
   ]
  },
  {
   "cell_type": "code",
   "execution_count": 9,
   "metadata": {},
   "outputs": [
    {
     "data": {
      "text/plain": [
       "6"
      ]
     },
     "execution_count": 9,
     "metadata": {},
     "output_type": "execute_result"
    }
   ],
   "source": [
    "# slightly more complicated example\n",
    "\n",
    "def adder(x):\n",
    "    return lambda y: x + y\n",
    "\n",
    "add5 = adder(5) \n",
    "add5(1)"
   ]
  },
  {
   "cell_type": "code",
   "execution_count": 11,
   "metadata": {},
   "outputs": [
    {
     "data": {
      "text/plain": [
       "'Full name: Guido Van Rossum'"
      ]
     },
     "execution_count": 11,
     "metadata": {},
     "output_type": "execute_result"
    }
   ],
   "source": [
    "full_name = lambda first, last: f'Full name: {first.title()} {last.title()}'\n",
    "full_name('guido', 'van rossum')"
   ]
  },
  {
   "cell_type": "markdown",
   "metadata": {},
   "source": [
    "# Assignment"
   ]
  },
  {
   "cell_type": "code",
   "execution_count": null,
   "metadata": {},
   "outputs": [],
   "source": [
    "# this can also be rewriten where Car class inherits the \n",
    "class Car(Lidar, Camera):\n",
    "    # Constructor\n",
    "    def __init__(self):\n",
    "        self.lidar = self.Lidar()\n",
    "        self.camera = self.Camera()\n",
    "        self.pos = init_pos\n",
    "      \n",
    "    # Class Methods\n",
    "    def drive(self, distance):\n",
    "        self.pos += distance\n",
    "    \n",
    "    def sensing(lidarData, cameraData)\n",
    "\n",
    "\n",
    "class Lidar():\n",
    "    def getLidarData():\n",
    "        return lidarData\n",
    "    \n",
    "class Camera():\n",
    "    def getCameraData():\n",
    "        return cameraData\n",
    "\n",
    "\n",
    "# They need to fill in a loop where they instantiate the car class with a lidar and camera -- not sure about this\n",
    "    \n",
    "car = Car(0)\n",
    "\n",
    "while True:\n",
    "    lidar_data = car.lidar.getLidarData\n",
    "    camera_data = car.camera.getCameraData\n",
    "    \n",
    "    car.sensing(lidar_data, camera_data)\n",
    "    \n",
    "    #Then send the sense output to a module plan and move. \n"
   ]
  }
 ],
 "metadata": {
  "colab": {
   "collapsed_sections": [],
   "name": "Intro2Python.ipynb",
   "provenance": [],
   "version": "0.3.2"
  },
  "kernelspec": {
   "display_name": "Python 3",
   "language": "python",
   "name": "python3"
  },
  "language_info": {
   "codemirror_mode": {
    "name": "ipython",
    "version": 3
   },
   "file_extension": ".py",
   "mimetype": "text/x-python",
   "name": "python",
   "nbconvert_exporter": "python",
   "pygments_lexer": "ipython3",
   "version": "3.6.8"
  }
 },
 "nbformat": 4,
 "nbformat_minor": 1
}
